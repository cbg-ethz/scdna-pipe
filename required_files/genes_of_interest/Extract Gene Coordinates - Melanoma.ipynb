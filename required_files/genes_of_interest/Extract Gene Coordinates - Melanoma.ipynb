{
 "cells": [
  {
   "cell_type": "code",
   "execution_count": 1,
   "metadata": {},
   "outputs": [],
   "source": [
    "import pandas as pd"
   ]
  },
  {
   "cell_type": "code",
   "execution_count": 2,
   "metadata": {},
   "outputs": [],
   "source": [
    "genes_of_interest = pd.read_csv('melanoma_genes.txt', header=None)"
   ]
  },
  {
   "cell_type": "code",
   "execution_count": 3,
   "metadata": {},
   "outputs": [],
   "source": [
    "genes_of_interest = genes_of_interest.values.tolist()"
   ]
  },
  {
   "cell_type": "code",
   "execution_count": 4,
   "metadata": {},
   "outputs": [],
   "source": [
    "flat_genes = [item for sublist in genes_of_interest for item in sublist]"
   ]
  },
  {
   "cell_type": "code",
   "execution_count": 5,
   "metadata": {
    "scrolled": false
   },
   "outputs": [
    {
     "data": {
      "text/plain": [
       "['AKT1',\n",
       " 'AKT2',\n",
       " 'AKT3',\n",
       " 'ALK',\n",
       " 'CDKN2A',\n",
       " 'CDKN2B',\n",
       " 'CCND1',\n",
       " 'CCND2',\n",
       " 'CCND3',\n",
       " 'ERBB2',\n",
       " 'KDR',\n",
       " 'CDK4',\n",
       " 'CDK6',\n",
       " 'BRAF',\n",
       " 'MET',\n",
       " 'FGFR1',\n",
       " 'FGFR2',\n",
       " 'FGFR3',\n",
       " 'PTEN',\n",
       " 'NF1',\n",
       " 'BAP1',\n",
       " 'EGFR',\n",
       " 'BRCA2',\n",
       " 'BRCA1',\n",
       " 'KIT',\n",
       " 'TP53',\n",
       " 'JAK1',\n",
       " 'JAK2',\n",
       " 'B2M']"
      ]
     },
     "execution_count": 5,
     "metadata": {},
     "output_type": "execute_result"
    }
   ],
   "source": [
    "flat_genes"
   ]
  },
  {
   "cell_type": "code",
   "execution_count": 6,
   "metadata": {},
   "outputs": [],
   "source": [
    "gene_coordinates = pd.read_csv('ensembl_hg19_genes.txt',sep='\\t')"
   ]
  },
  {
   "cell_type": "code",
   "execution_count": 7,
   "metadata": {},
   "outputs": [
    {
     "data": {
      "text/html": [
       "<div>\n",
       "<style scoped>\n",
       "    .dataframe tbody tr th:only-of-type {\n",
       "        vertical-align: middle;\n",
       "    }\n",
       "\n",
       "    .dataframe tbody tr th {\n",
       "        vertical-align: top;\n",
       "    }\n",
       "\n",
       "    .dataframe thead th {\n",
       "        text-align: right;\n",
       "    }\n",
       "</style>\n",
       "<table border=\"1\" class=\"dataframe\">\n",
       "  <thead>\n",
       "    <tr style=\"text-align: right;\">\n",
       "      <th></th>\n",
       "      <th>Chromosome/scaffold name</th>\n",
       "      <th>Gene start (bp)</th>\n",
       "      <th>Gene end (bp)</th>\n",
       "      <th>Gene name</th>\n",
       "      <th>Gene stable ID</th>\n",
       "    </tr>\n",
       "  </thead>\n",
       "  <tbody>\n",
       "    <tr>\n",
       "      <th>0</th>\n",
       "      <td>HG991_PATCH</td>\n",
       "      <td>66119285</td>\n",
       "      <td>66465398</td>\n",
       "      <td>SLC25A26</td>\n",
       "      <td>ENSG00000261657</td>\n",
       "    </tr>\n",
       "    <tr>\n",
       "      <th>1</th>\n",
       "      <td>13</td>\n",
       "      <td>23551994</td>\n",
       "      <td>23552136</td>\n",
       "      <td>AL157931.1</td>\n",
       "      <td>ENSG00000223116</td>\n",
       "    </tr>\n",
       "    <tr>\n",
       "      <th>2</th>\n",
       "      <td>13</td>\n",
       "      <td>23708313</td>\n",
       "      <td>23708703</td>\n",
       "      <td>HMGA1P6</td>\n",
       "      <td>ENSG00000233440</td>\n",
       "    </tr>\n",
       "    <tr>\n",
       "      <th>3</th>\n",
       "      <td>13</td>\n",
       "      <td>23726725</td>\n",
       "      <td>23726825</td>\n",
       "      <td>RNY3P4</td>\n",
       "      <td>ENSG00000207157</td>\n",
       "    </tr>\n",
       "    <tr>\n",
       "      <th>4</th>\n",
       "      <td>13</td>\n",
       "      <td>23743974</td>\n",
       "      <td>23744736</td>\n",
       "      <td>LINC00362</td>\n",
       "      <td>ENSG00000229483</td>\n",
       "    </tr>\n",
       "  </tbody>\n",
       "</table>\n",
       "</div>"
      ],
      "text/plain": [
       "  Chromosome/scaffold name  Gene start (bp)  Gene end (bp)   Gene name  \\\n",
       "0              HG991_PATCH         66119285       66465398    SLC25A26   \n",
       "1                       13         23551994       23552136  AL157931.1   \n",
       "2                       13         23708313       23708703     HMGA1P6   \n",
       "3                       13         23726725       23726825      RNY3P4   \n",
       "4                       13         23743974       23744736   LINC00362   \n",
       "\n",
       "    Gene stable ID  \n",
       "0  ENSG00000261657  \n",
       "1  ENSG00000223116  \n",
       "2  ENSG00000233440  \n",
       "3  ENSG00000207157  \n",
       "4  ENSG00000229483  "
      ]
     },
     "execution_count": 7,
     "metadata": {},
     "output_type": "execute_result"
    }
   ],
   "source": [
    "gene_coordinates.head()"
   ]
  },
  {
   "cell_type": "code",
   "execution_count": 8,
   "metadata": {},
   "outputs": [],
   "source": [
    "desired_gene_coordinates = gene_coordinates[gene_coordinates['Gene name'].isin(flat_genes)]"
   ]
  },
  {
   "cell_type": "code",
   "execution_count": 9,
   "metadata": {},
   "outputs": [
    {
     "data": {
      "text/plain": [
       "29"
      ]
     },
     "execution_count": 9,
     "metadata": {},
     "output_type": "execute_result"
    }
   ],
   "source": [
    "len(flat_genes)"
   ]
  },
  {
   "cell_type": "markdown",
   "metadata": {},
   "source": [
    "Genes that are not found on the reference"
   ]
  },
  {
   "cell_type": "code",
   "execution_count": 10,
   "metadata": {
    "scrolled": true
   },
   "outputs": [
    {
     "data": {
      "text/plain": [
       "set()"
      ]
     },
     "execution_count": 10,
     "metadata": {},
     "output_type": "execute_result"
    }
   ],
   "source": [
    "set(flat_genes) - set(desired_gene_coordinates['Gene name'].tolist())"
   ]
  },
  {
   "cell_type": "code",
   "execution_count": 11,
   "metadata": {},
   "outputs": [
    {
     "data": {
      "text/plain": [
       "(29, 5)"
      ]
     },
     "execution_count": 11,
     "metadata": {},
     "output_type": "execute_result"
    }
   ],
   "source": [
    "desired_gene_coordinates.shape"
   ]
  },
  {
   "cell_type": "code",
   "execution_count": 13,
   "metadata": {},
   "outputs": [
    {
     "data": {
      "text/html": [
       "<div>\n",
       "<style scoped>\n",
       "    .dataframe tbody tr th:only-of-type {\n",
       "        vertical-align: middle;\n",
       "    }\n",
       "\n",
       "    .dataframe tbody tr th {\n",
       "        vertical-align: top;\n",
       "    }\n",
       "\n",
       "    .dataframe thead th {\n",
       "        text-align: right;\n",
       "    }\n",
       "</style>\n",
       "<table border=\"1\" class=\"dataframe\">\n",
       "  <thead>\n",
       "    <tr style=\"text-align: right;\">\n",
       "      <th></th>\n",
       "      <th>Chromosome/scaffold name</th>\n",
       "      <th>Gene start (bp)</th>\n",
       "      <th>Gene end (bp)</th>\n",
       "      <th>Gene name</th>\n",
       "      <th>Gene stable ID</th>\n",
       "    </tr>\n",
       "  </thead>\n",
       "  <tbody>\n",
       "    <tr>\n",
       "      <th>5537</th>\n",
       "      <td>9</td>\n",
       "      <td>4985033</td>\n",
       "      <td>5128183</td>\n",
       "      <td>JAK2</td>\n",
       "      <td>ENSG00000096968</td>\n",
       "    </tr>\n",
       "    <tr>\n",
       "      <th>9638</th>\n",
       "      <td>8</td>\n",
       "      <td>38268656</td>\n",
       "      <td>38326352</td>\n",
       "      <td>FGFR1</td>\n",
       "      <td>ENSG00000077782</td>\n",
       "    </tr>\n",
       "    <tr>\n",
       "      <th>20588</th>\n",
       "      <td>19</td>\n",
       "      <td>40736224</td>\n",
       "      <td>40791443</td>\n",
       "      <td>AKT2</td>\n",
       "      <td>ENSG00000105221</td>\n",
       "    </tr>\n",
       "    <tr>\n",
       "      <th>22978</th>\n",
       "      <td>2</td>\n",
       "      <td>29415640</td>\n",
       "      <td>30144432</td>\n",
       "      <td>ALK</td>\n",
       "      <td>ENSG00000171094</td>\n",
       "    </tr>\n",
       "    <tr>\n",
       "      <th>27720</th>\n",
       "      <td>7</td>\n",
       "      <td>140419127</td>\n",
       "      <td>140624564</td>\n",
       "      <td>BRAF</td>\n",
       "      <td>ENSG00000157764</td>\n",
       "    </tr>\n",
       "  </tbody>\n",
       "</table>\n",
       "</div>"
      ],
      "text/plain": [
       "      Chromosome/scaffold name  Gene start (bp)  Gene end (bp) Gene name  \\\n",
       "5537                         9          4985033        5128183      JAK2   \n",
       "9638                         8         38268656       38326352     FGFR1   \n",
       "20588                       19         40736224       40791443      AKT2   \n",
       "22978                        2         29415640       30144432       ALK   \n",
       "27720                        7        140419127      140624564      BRAF   \n",
       "\n",
       "        Gene stable ID  \n",
       "5537   ENSG00000096968  \n",
       "9638   ENSG00000077782  \n",
       "20588  ENSG00000105221  \n",
       "22978  ENSG00000171094  \n",
       "27720  ENSG00000157764  "
      ]
     },
     "execution_count": 13,
     "metadata": {},
     "output_type": "execute_result"
    }
   ],
   "source": [
    "desired_gene_coordinates.head()"
   ]
  },
  {
   "cell_type": "code",
   "execution_count": 15,
   "metadata": {},
   "outputs": [],
   "source": [
    "desired_gene_coordinates.to_csv('melanoma_gene_coordinates.tsv', sep='\\t')"
   ]
  },
  {
   "cell_type": "code",
   "execution_count": null,
   "metadata": {},
   "outputs": [],
   "source": []
  }
 ],
 "metadata": {
  "kernelspec": {
   "display_name": "Python 3",
   "language": "python",
   "name": "python3"
  },
  "language_info": {
   "codemirror_mode": {
    "name": "ipython",
    "version": 3
   },
   "file_extension": ".py",
   "mimetype": "text/x-python",
   "name": "python",
   "nbconvert_exporter": "python",
   "pygments_lexer": "ipython3",
   "version": "3.6.3"
  }
 },
 "nbformat": 4,
 "nbformat_minor": 2
}
