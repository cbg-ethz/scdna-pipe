{
 "cells": [
  {
   "cell_type": "code",
   "execution_count": 1,
   "metadata": {},
   "outputs": [],
   "source": [
    "import pandas as pd"
   ]
  },
  {
   "cell_type": "code",
   "execution_count": 2,
   "metadata": {},
   "outputs": [],
   "source": [
    "genes_of_interest = pd.read_csv('ovarian_genes.txt', header=None)"
   ]
  },
  {
   "cell_type": "code",
   "execution_count": 3,
   "metadata": {},
   "outputs": [],
   "source": [
    "genes_of_interest = genes_of_interest.values.tolist()"
   ]
  },
  {
   "cell_type": "code",
   "execution_count": 4,
   "metadata": {},
   "outputs": [],
   "source": [
    "flat_genes = [item for sublist in genes_of_interest for item in sublist]"
   ]
  },
  {
   "cell_type": "code",
   "execution_count": 5,
   "metadata": {
    "scrolled": false
   },
   "outputs": [
    {
     "data": {
      "text/plain": [
       "['AKT1',\n",
       " 'AKT3',\n",
       " 'ARID1A',\n",
       " 'ARID4B',\n",
       " 'ATM',\n",
       " 'ATR',\n",
       " 'BARD1',\n",
       " 'BCHE',\n",
       " 'BCL2L1',\n",
       " 'BRAF',\n",
       " 'BRCA1',\n",
       " 'BRCA2',\n",
       " 'CASP8',\n",
       " 'CCND1',\n",
       " 'CCND2',\n",
       " 'CCNE1',\n",
       " 'CDK4',\n",
       " 'CDKN2A',\n",
       " 'CHEK1',\n",
       " 'CHEK2',\n",
       " 'CTCF',\n",
       " 'EGFR',\n",
       " 'EIF5A2',\n",
       " 'EPHA3',\n",
       " 'ERBB2',\n",
       " 'ERBB3',\n",
       " 'ESR1',\n",
       " 'ESR2',\n",
       " 'FGFR1',\n",
       " 'FGFR2',\n",
       " 'FGFR3',\n",
       " 'FGFR4',\n",
       " 'FN1',\n",
       " 'HES1',\n",
       " 'HEY1',\n",
       " 'HRAS',\n",
       " 'KDM5A',\n",
       " 'KIT',\n",
       " 'KRAS',\n",
       " 'LYN',\n",
       " 'MAP2K4',\n",
       " 'MAP3K11',\n",
       " 'MAPK12',\n",
       " 'MECOM',\n",
       " 'MET',\n",
       " 'MUC16',\n",
       " 'MYC',\n",
       " 'NCOR1',\n",
       " 'NF1',\n",
       " 'NF2',\n",
       " 'NOTCH3',\n",
       " 'NRARP',\n",
       " 'NRAS',\n",
       " 'PDGFRA',\n",
       " 'PIK3CA',\n",
       " 'PIK3R1',\n",
       " 'PPP2R1A',\n",
       " 'PRKCI',\n",
       " 'PRKCI',\n",
       " 'PTEN',\n",
       " 'RAB25',\n",
       " 'RAD51C',\n",
       " 'RB1',\n",
       " 'SERPINI1',\n",
       " 'SPARC',\n",
       " 'TERC',\n",
       " 'TP53',\n",
       " 'WFDC2']"
      ]
     },
     "execution_count": 5,
     "metadata": {},
     "output_type": "execute_result"
    }
   ],
   "source": [
    "flat_genes"
   ]
  },
  {
   "cell_type": "code",
   "execution_count": 6,
   "metadata": {},
   "outputs": [],
   "source": [
    "gene_coordinates = pd.read_csv('ensembl_hg19_genes.txt',sep='\\t')"
   ]
  },
  {
   "cell_type": "code",
   "execution_count": 7,
   "metadata": {},
   "outputs": [
    {
     "data": {
      "text/html": [
       "<div>\n",
       "<style scoped>\n",
       "    .dataframe tbody tr th:only-of-type {\n",
       "        vertical-align: middle;\n",
       "    }\n",
       "\n",
       "    .dataframe tbody tr th {\n",
       "        vertical-align: top;\n",
       "    }\n",
       "\n",
       "    .dataframe thead th {\n",
       "        text-align: right;\n",
       "    }\n",
       "</style>\n",
       "<table border=\"1\" class=\"dataframe\">\n",
       "  <thead>\n",
       "    <tr style=\"text-align: right;\">\n",
       "      <th></th>\n",
       "      <th>Chromosome/scaffold name</th>\n",
       "      <th>Gene start (bp)</th>\n",
       "      <th>Gene end (bp)</th>\n",
       "      <th>Gene name</th>\n",
       "      <th>Gene stable ID</th>\n",
       "    </tr>\n",
       "  </thead>\n",
       "  <tbody>\n",
       "    <tr>\n",
       "      <th>0</th>\n",
       "      <td>HG991_PATCH</td>\n",
       "      <td>66119285</td>\n",
       "      <td>66465398</td>\n",
       "      <td>SLC25A26</td>\n",
       "      <td>ENSG00000261657</td>\n",
       "    </tr>\n",
       "    <tr>\n",
       "      <th>1</th>\n",
       "      <td>13</td>\n",
       "      <td>23551994</td>\n",
       "      <td>23552136</td>\n",
       "      <td>AL157931.1</td>\n",
       "      <td>ENSG00000223116</td>\n",
       "    </tr>\n",
       "    <tr>\n",
       "      <th>2</th>\n",
       "      <td>13</td>\n",
       "      <td>23708313</td>\n",
       "      <td>23708703</td>\n",
       "      <td>HMGA1P6</td>\n",
       "      <td>ENSG00000233440</td>\n",
       "    </tr>\n",
       "    <tr>\n",
       "      <th>3</th>\n",
       "      <td>13</td>\n",
       "      <td>23726725</td>\n",
       "      <td>23726825</td>\n",
       "      <td>RNY3P4</td>\n",
       "      <td>ENSG00000207157</td>\n",
       "    </tr>\n",
       "    <tr>\n",
       "      <th>4</th>\n",
       "      <td>13</td>\n",
       "      <td>23743974</td>\n",
       "      <td>23744736</td>\n",
       "      <td>LINC00362</td>\n",
       "      <td>ENSG00000229483</td>\n",
       "    </tr>\n",
       "  </tbody>\n",
       "</table>\n",
       "</div>"
      ],
      "text/plain": [
       "  Chromosome/scaffold name  Gene start (bp)  Gene end (bp)   Gene name  \\\n",
       "0              HG991_PATCH         66119285       66465398    SLC25A26   \n",
       "1                       13         23551994       23552136  AL157931.1   \n",
       "2                       13         23708313       23708703     HMGA1P6   \n",
       "3                       13         23726725       23726825      RNY3P4   \n",
       "4                       13         23743974       23744736   LINC00362   \n",
       "\n",
       "    Gene stable ID  \n",
       "0  ENSG00000261657  \n",
       "1  ENSG00000223116  \n",
       "2  ENSG00000233440  \n",
       "3  ENSG00000207157  \n",
       "4  ENSG00000229483  "
      ]
     },
     "execution_count": 7,
     "metadata": {},
     "output_type": "execute_result"
    }
   ],
   "source": [
    "gene_coordinates.head()"
   ]
  },
  {
   "cell_type": "code",
   "execution_count": 8,
   "metadata": {},
   "outputs": [],
   "source": [
    "desired_gene_coordinates = gene_coordinates[gene_coordinates['Gene name'].isin(flat_genes)]"
   ]
  },
  {
   "cell_type": "code",
   "execution_count": 9,
   "metadata": {},
   "outputs": [
    {
     "data": {
      "text/plain": [
       "68"
      ]
     },
     "execution_count": 9,
     "metadata": {},
     "output_type": "execute_result"
    }
   ],
   "source": [
    "len(flat_genes)"
   ]
  },
  {
   "cell_type": "markdown",
   "metadata": {},
   "source": [
    "Genes that are not found on the reference"
   ]
  },
  {
   "cell_type": "code",
   "execution_count": 10,
   "metadata": {
    "scrolled": true
   },
   "outputs": [
    {
     "data": {
      "text/plain": [
       "set()"
      ]
     },
     "execution_count": 10,
     "metadata": {},
     "output_type": "execute_result"
    }
   ],
   "source": [
    "set(flat_genes) - set(desired_gene_coordinates['Gene name'].tolist())"
   ]
  },
  {
   "cell_type": "code",
   "execution_count": 11,
   "metadata": {},
   "outputs": [
    {
     "data": {
      "text/plain": [
       "(67, 5)"
      ]
     },
     "execution_count": 11,
     "metadata": {},
     "output_type": "execute_result"
    }
   ],
   "source": [
    "desired_gene_coordinates.shape"
   ]
  },
  {
   "cell_type": "code",
   "execution_count": 12,
   "metadata": {},
   "outputs": [
    {
     "data": {
      "text/html": [
       "<div>\n",
       "<style scoped>\n",
       "    .dataframe tbody tr th:only-of-type {\n",
       "        vertical-align: middle;\n",
       "    }\n",
       "\n",
       "    .dataframe tbody tr th {\n",
       "        vertical-align: top;\n",
       "    }\n",
       "\n",
       "    .dataframe thead th {\n",
       "        text-align: right;\n",
       "    }\n",
       "</style>\n",
       "<table border=\"1\" class=\"dataframe\">\n",
       "  <thead>\n",
       "    <tr style=\"text-align: right;\">\n",
       "      <th></th>\n",
       "      <th>Chromosome/scaffold name</th>\n",
       "      <th>Gene start (bp)</th>\n",
       "      <th>Gene end (bp)</th>\n",
       "      <th>Gene name</th>\n",
       "      <th>Gene stable ID</th>\n",
       "    </tr>\n",
       "  </thead>\n",
       "  <tbody>\n",
       "    <tr>\n",
       "      <th>7426</th>\n",
       "      <td>11</td>\n",
       "      <td>65365226</td>\n",
       "      <td>65382853</td>\n",
       "      <td>MAP3K11</td>\n",
       "      <td>ENSG00000173327</td>\n",
       "    </tr>\n",
       "    <tr>\n",
       "      <th>8160</th>\n",
       "      <td>11</td>\n",
       "      <td>532242</td>\n",
       "      <td>537287</td>\n",
       "      <td>HRAS</td>\n",
       "      <td>ENSG00000174775</td>\n",
       "    </tr>\n",
       "    <tr>\n",
       "      <th>9565</th>\n",
       "      <td>3</td>\n",
       "      <td>169482308</td>\n",
       "      <td>169482848</td>\n",
       "      <td>TERC</td>\n",
       "      <td>ENSG00000270141</td>\n",
       "    </tr>\n",
       "    <tr>\n",
       "      <th>9638</th>\n",
       "      <td>8</td>\n",
       "      <td>38268656</td>\n",
       "      <td>38326352</td>\n",
       "      <td>FGFR1</td>\n",
       "      <td>ENSG00000077782</td>\n",
       "    </tr>\n",
       "    <tr>\n",
       "      <th>24034</th>\n",
       "      <td>22</td>\n",
       "      <td>29083731</td>\n",
       "      <td>29138410</td>\n",
       "      <td>CHEK2</td>\n",
       "      <td>ENSG00000183765</td>\n",
       "    </tr>\n",
       "  </tbody>\n",
       "</table>\n",
       "</div>"
      ],
      "text/plain": [
       "      Chromosome/scaffold name  Gene start (bp)  Gene end (bp) Gene name  \\\n",
       "7426                        11         65365226       65382853   MAP3K11   \n",
       "8160                        11           532242         537287      HRAS   \n",
       "9565                         3        169482308      169482848      TERC   \n",
       "9638                         8         38268656       38326352     FGFR1   \n",
       "24034                       22         29083731       29138410     CHEK2   \n",
       "\n",
       "        Gene stable ID  \n",
       "7426   ENSG00000173327  \n",
       "8160   ENSG00000174775  \n",
       "9565   ENSG00000270141  \n",
       "9638   ENSG00000077782  \n",
       "24034  ENSG00000183765  "
      ]
     },
     "execution_count": 12,
     "metadata": {},
     "output_type": "execute_result"
    }
   ],
   "source": [
    "desired_gene_coordinates.head()"
   ]
  },
  {
   "cell_type": "code",
   "execution_count": 13,
   "metadata": {},
   "outputs": [],
   "source": [
    "desired_gene_coordinates.to_csv('ovarian_gene_coordinates.tsv', sep='\\t')"
   ]
  },
  {
   "cell_type": "code",
   "execution_count": null,
   "metadata": {},
   "outputs": [],
   "source": []
  }
 ],
 "metadata": {
  "kernelspec": {
   "display_name": "Python 3",
   "language": "python",
   "name": "python3"
  },
  "language_info": {
   "codemirror_mode": {
    "name": "ipython",
    "version": 3
   },
   "file_extension": ".py",
   "mimetype": "text/x-python",
   "name": "python",
   "nbconvert_exporter": "python",
   "pygments_lexer": "ipython3",
   "version": "3.6.3"
  }
 },
 "nbformat": 4,
 "nbformat_minor": 2
}
